{
 "cells": [
  {
   "cell_type": "code",
   "execution_count": 3,
   "metadata": {},
   "outputs": [],
   "source": [
    "import pandas as pd"
   ]
  },
  {
   "cell_type": "code",
   "execution_count": null,
   "metadata": {},
   "outputs": [],
   "source": [
    "\n",
    "from selenium import webdriver\n",
    "from selenium.webdriver.common.by import By\n",
    "from selenium.webdriver.support.ui import WebDriverWait\n",
    "from selenium.webdriver.support import expected_conditions as EC\n",
    "\n",
    "# from 2020-01-01 to 2020-11-30 \n",
    "date_range = list(pd.bdate_range('20151201', '20201130',freq='1D').strftime(\"%Y-%m-%d\"))\n",
    "data_store = pd.DataFrame()\n",
    "for date in date_range:\n",
    "    url = 'https://www.wunderground.com/history/daily/KLGA/date/{}'.format(date)\n",
    "    driver = webdriver.Chrome()\n",
    "    driver.get(url)\n",
    "    tables = WebDriverWait(driver,20).until(EC.presence_of_all_elements_located((By.CLASS_NAME, \"mat-table.cdk-table.mat-sort.ng-star-inserted\")))\n",
    "    for table in tables:\n",
    "        newTable = pd.read_html(table.get_attribute('outerHTML'))\n",
    "        if newTable:\n",
    "            daily = newTable[0].fillna('')\n",
    "            daily[\"date\"] = date\n",
    "    data_store = pd.concat([data_store,daily])\n",
    "    driver.quit()\n",
    "data_store.to_csv(\"weather.csv\")"
   ]
  },
  {
   "cell_type": "code",
   "execution_count": 5,
   "metadata": {},
   "outputs": [],
   "source": [
    "# transfer 12 hours AM/PM to 24 hours\n",
    "def convert24(date):\n",
    "    # Checking if last two elements of time \n",
    "    # is AM and first two elements are 12 \n",
    "    if date[-2:] == \"AM\" and date[:2] == \"12\": \n",
    "        return \"00\" + \":\"+ date.split()[0].split(\":\")[1]\n",
    "          \n",
    "    # remove the AM     \n",
    "    elif date[-2:] == \"AM\": \n",
    "        return date[:-3] \n",
    "      \n",
    "    # Checking if last two elements of time \n",
    "    # is PM and first two elements are 12    \n",
    "    elif date[-2:] == \"PM\" and date[:2] == \"12\": \n",
    "        return date[:-3] \n",
    "          \n",
    "    else: \n",
    "        # add 12 to hours and remove PM \n",
    "        return str(int(date.split()[0].split(\":\")[0]) + 12) + \":\"+ date.split()[0].split(\":\")[1]\n",
    "\n",
    "# add 9 mins     \n",
    "def add_9_mins(date):\n",
    "\n",
    "    if (int(date.split(\":\")[0]) + 1) == 24:\n",
    "        return \"00:00:00\"\n",
    "\n",
    "    else:\n",
    "       return str(int(date.split(\":\")[0]) + 1) + \":00:00\""
   ]
  },
  {
   "cell_type": "code",
   "execution_count": 17,
   "metadata": {},
   "outputs": [],
   "source": [
    "weather = pd.read_csv(\"weather.csv\",usecols=[\"date\",\"Time\",\"Temperature\",\"Dew Point\",\"Humidity\",\"Wind Speed\",\"Condition\"])\n",
    "weather.drop_duplicates(subset=[\"Time\",\"date\"],inplace=True)\n",
    "\n",
    "# drop the row whose frequency is over range\n",
    "date_range = list(pd.bdate_range('20151231', '20201130',freq='1D').strftime(\"%Y-%m-%d\"))\n",
    "freq = list(weather[weather[\"date\"]==\"2020-01-01\"][\"Time\"].values)\n",
    "data_store = pd.DataFrame()\n",
    "for i in date_range:\n",
    "    mask = weather[weather[\"date\"]==i]\n",
    "    daily= mask[mask[\"Time\"].isin(freq)]\n",
    "    data_store = pd.concat([data_store,daily])\n",
    "weather = data_store\n",
    "weather.reset_index(drop=True,inplace=True)"
   ]
  },
  {
   "cell_type": "code",
   "execution_count": 19,
   "metadata": {},
   "outputs": [],
   "source": [
    "# transfer xx:51:00 to (x+1):00:00, such as 1:51:00 to 2:00:00\n",
    "weather[\"Time\"] = weather[\"Time\"].apply(lambda x:convert24(x)).apply(lambda x: add_9_mins(x))\n",
    "\n",
    "# transfer x:00:00 to 0x:00:00,such as 2:00:00 to 02:00:00\n",
    "weather[\"Time\"] = weather[\"Time\"].apply(lambda x: \"0\"+x.split(\":\")[0]+x[1:]if len(x.split(\":\")[0]) < 2 else (x))\n",
    "\n",
    "# Since 23:51:00 add 9 min will become 00:00:00 of next day, we shift -1 to match\n",
    "weather[\"date\"] = weather[\"date\"].shift(-1)\n",
    "weather.drop(index=weather.iloc[[-1]].index,inplace =True)\n",
    "\n",
    "# combine the date and time, which will be YYYY/MM/DD HH:MM:SS\n",
    "weather[\"date\"] = weather[\"date\"].apply(lambda x: x.replace(\"-\",\"/\"))\n",
    "\n",
    "#start from 2016\n",
    "weather = weather[weather[\"date\"].apply(lambda x: x.split(\"/\")[0]).astype(int) > 2015]\n",
    "weather.reset_index(drop=True,inplace=True)"
   ]
  },
  {
   "cell_type": "code",
   "execution_count": 20,
   "metadata": {},
   "outputs": [
    {
     "name": "stdout",
     "output_type": "stream",
     "text": [
      "Checking which feature which missive values\n"
     ]
    },
    {
     "data": {
      "text/plain": [
       "Time           0.000000\n",
       "Temperature    0.000000\n",
       "Dew Point      0.000000\n",
       "Humidity       0.000000\n",
       "Wind Speed     0.000000\n",
       "Condition      0.000023\n",
       "date           0.000000\n",
       "dtype: float64"
      ]
     },
     "metadata": {},
     "output_type": "display_data"
    },
    {
     "name": "stdout",
     "output_type": "stream",
     "text": [
      "--------------------------------------------------------------------------------\n",
      "The 'Conditon' has a missing values\n"
     ]
    },
    {
     "data": {
      "text/html": [
       "<div>\n",
       "<style scoped>\n",
       "    .dataframe tbody tr th:only-of-type {\n",
       "        vertical-align: middle;\n",
       "    }\n",
       "\n",
       "    .dataframe tbody tr th {\n",
       "        vertical-align: top;\n",
       "    }\n",
       "\n",
       "    .dataframe thead th {\n",
       "        text-align: right;\n",
       "    }\n",
       "</style>\n",
       "<table border=\"1\" class=\"dataframe\">\n",
       "  <thead>\n",
       "    <tr style=\"text-align: right;\">\n",
       "      <th></th>\n",
       "      <th>Time</th>\n",
       "      <th>Temperature</th>\n",
       "      <th>Dew Point</th>\n",
       "      <th>Humidity</th>\n",
       "      <th>Wind Speed</th>\n",
       "      <th>Condition</th>\n",
       "      <th>date</th>\n",
       "    </tr>\n",
       "  </thead>\n",
       "  <tbody>\n",
       "    <tr>\n",
       "      <th>40128</th>\n",
       "      <td>01:00:00</td>\n",
       "      <td>80 F</td>\n",
       "      <td>70 F</td>\n",
       "      <td>71 %</td>\n",
       "      <td>9 mph</td>\n",
       "      <td>Cloudy</td>\n",
       "      <td>2020/08/02</td>\n",
       "    </tr>\n",
       "    <tr>\n",
       "      <th>40129</th>\n",
       "      <td>02:00:00</td>\n",
       "      <td>80 F</td>\n",
       "      <td>69 F</td>\n",
       "      <td>69 %</td>\n",
       "      <td>9 mph</td>\n",
       "      <td>NaN</td>\n",
       "      <td>2020/08/02</td>\n",
       "    </tr>\n",
       "    <tr>\n",
       "      <th>40130</th>\n",
       "      <td>03:00:00</td>\n",
       "      <td>79 F</td>\n",
       "      <td>70 F</td>\n",
       "      <td>74 %</td>\n",
       "      <td>7 mph</td>\n",
       "      <td>Cloudy</td>\n",
       "      <td>2020/08/02</td>\n",
       "    </tr>\n",
       "  </tbody>\n",
       "</table>\n",
       "</div>"
      ],
      "text/plain": [
       "           Time Temperature Dew Point Humidity Wind Speed Condition  \\\n",
       "40128  01:00:00        80 F      70 F     71 %      9 mph    Cloudy   \n",
       "40129  02:00:00        80 F      69 F     69 %      9 mph       NaN   \n",
       "40130  03:00:00        79 F      70 F     74 %      7 mph    Cloudy   \n",
       "\n",
       "             date  \n",
       "40128  2020/08/02  \n",
       "40129  2020/08/02  \n",
       "40130  2020/08/02  "
      ]
     },
     "metadata": {},
     "output_type": "display_data"
    },
    {
     "name": "stdout",
     "output_type": "stream",
     "text": [
      "                              ↓ ↓ ↓ ↓ ↓                              \n"
     ]
    },
    {
     "data": {
      "text/html": [
       "<div>\n",
       "<style scoped>\n",
       "    .dataframe tbody tr th:only-of-type {\n",
       "        vertical-align: middle;\n",
       "    }\n",
       "\n",
       "    .dataframe tbody tr th {\n",
       "        vertical-align: top;\n",
       "    }\n",
       "\n",
       "    .dataframe thead th {\n",
       "        text-align: right;\n",
       "    }\n",
       "</style>\n",
       "<table border=\"1\" class=\"dataframe\">\n",
       "  <thead>\n",
       "    <tr style=\"text-align: right;\">\n",
       "      <th></th>\n",
       "      <th>Time</th>\n",
       "      <th>Temperature</th>\n",
       "      <th>Dew Point</th>\n",
       "      <th>Humidity</th>\n",
       "      <th>Wind Speed</th>\n",
       "      <th>Condition</th>\n",
       "      <th>date</th>\n",
       "    </tr>\n",
       "  </thead>\n",
       "  <tbody>\n",
       "    <tr>\n",
       "      <th>40129</th>\n",
       "      <td>02:00:00</td>\n",
       "      <td>80 F</td>\n",
       "      <td>69 F</td>\n",
       "      <td>69 %</td>\n",
       "      <td>9 mph</td>\n",
       "      <td>Cloudy</td>\n",
       "      <td>2020/08/02</td>\n",
       "    </tr>\n",
       "  </tbody>\n",
       "</table>\n",
       "</div>"
      ],
      "text/plain": [
       "           Time Temperature Dew Point Humidity Wind Speed Condition  \\\n",
       "40129  02:00:00        80 F      69 F     69 %      9 mph    Cloudy   \n",
       "\n",
       "             date  \n",
       "40129  2020/08/02  "
      ]
     },
     "metadata": {},
     "output_type": "display_data"
    }
   ],
   "source": [
    "# check missing values\n",
    "print(\"Checking which feature which missive values\")\n",
    "display(weather.isnull().mean())\n",
    "print(\"-\"*80)\n",
    "\n",
    "#Condition\n",
    "print(\"The 'Conditon' has a missing values\")\n",
    "condition = weather[\"Condition\"]\n",
    "miss_index = int(condition[condition.isnull()].index.values)\n",
    "display(weather.loc[[miss_index-1,miss_index,miss_index+1]])\n",
    "\n",
    "# fill missing values by using previous values\n",
    "print(\" \"*30+\"↓ ↓ ↓ ↓ ↓\" + \" \"*30)\n",
    "weather.loc[miss_index,\"Condition\"] = weather.loc[miss_index+1,\"Condition\"]\n",
    "display(weather.loc[[miss_index]])"
   ]
  },
  {
   "cell_type": "code",
   "execution_count": 22,
   "metadata": {},
   "outputs": [
    {
     "data": {
      "text/plain": [
       "Cloudy        28022\n",
       "Fair           9993\n",
       "Rain           3775\n",
       "Fog             647\n",
       "Snow            404\n",
       "Wintry Mix       77\n",
       "Thunder          72\n",
       "Name: Condition, dtype: int64"
      ]
     },
     "execution_count": 22,
     "metadata": {},
     "output_type": "execute_result"
    }
   ],
   "source": [
    "# remove the windy\n",
    "weather[\"Condition\"] = pd.Series(weather[\"Condition\"].values).apply(lambda x: x.split(\" /\")[0])\n",
    "\n",
    "# narrow the cloudy class, transfer Mostly Cloudy and Partly Cloudy to Cloudy\n",
    "weather.replace([weather[\"Condition\"][pd.Series(weather[\"Condition\"].values).apply(lambda x: \"Cloudy\" in x)].value_counts().index.values],\"Cloudy\",inplace = True)\n",
    "weather.replace([weather[\"Condition\"][pd.Series(weather[\"Condition\"].values).apply(lambda x: \"Rain\" in x)].value_counts().index.values],\"Rain\", inplace = True)\n",
    "weather.replace([weather[\"Condition\"][pd.Series(weather[\"Condition\"].values).apply(lambda x: \"T-Storm\" in x)].value_counts().index.values],\"Rain\", inplace = True)\n",
    "weather.replace([weather[\"Condition\"][pd.Series(weather[\"Condition\"].values).apply(lambda x: \"Drizzle\" in x)].value_counts().index.values],\"Rain\", inplace = True)\n",
    "weather.replace([weather[\"Condition\"][pd.Series(weather[\"Condition\"].values).apply(lambda x: \"Sleet\" in x)].value_counts().index.values],\"Rain\", inplace = True)\n",
    "weather.replace([weather[\"Condition\"][pd.Series(weather[\"Condition\"].values).apply(lambda x: \"Thunder\" in x)].value_counts().index.values],\"Thunder\", inplace = True)\n",
    "weather.replace([weather[\"Condition\"][pd.Series(weather[\"Condition\"].values).apply(lambda x: \"Squalls\" in x)].value_counts().index.values],\"Thunder\", inplace = True)\n",
    "weather.replace([weather[\"Condition\"][pd.Series(weather[\"Condition\"].values).apply(lambda x: \"Snow\" in x)].value_counts().index.values],\"Snow\", inplace = True)\n",
    "weather.replace([weather[\"Condition\"][pd.Series(weather[\"Condition\"].values).apply(lambda x: \"Haze\" in x)].value_counts().index.values],\"Fog\", \n",
    "inplace = True)\n",
    "weather.replace([weather[\"Condition\"][pd.Series(weather[\"Condition\"].values).apply(lambda x: \"Fog\" in x)].value_counts().index.values],\"Fog\", \n",
    "inplace = True)\n",
    "weather.replace([weather[\"Condition\"][pd.Series(weather[\"Condition\"].values).apply(lambda x: \"Mist\" in x)].value_counts().index.values],\"Fog\", \n",
    "inplace = True)\n",
    "weather.replace([weather[\"Condition\"][pd.Series(weather[\"Condition\"].values).apply(lambda x: \"Small Hail\" in x)].value_counts().index.values],\"Rain\", inplace = True)\n",
    "\n",
    "weather[\"Condition\"].value_counts()"
   ]
  },
  {
   "cell_type": "code",
   "execution_count": 24,
   "metadata": {},
   "outputs": [],
   "source": [
    "# remove unit\n",
    "for i in [\"Temperature\",\"Dew Point\",\"Humidity\",\"Wind Speed\"]:\n",
    "    weather[i] = weather[i].apply(lambda x: x.split()[0])"
   ]
  },
  {
   "cell_type": "code",
   "execution_count": 26,
   "metadata": {},
   "outputs": [
    {
     "name": "stdout",
     "output_type": "stream",
     "text": [
      "Drop the date which miss over 9 number of hours,including: \n",
      "['2017/07/08', '2020/11/09']\n"
     ]
    }
   ],
   "source": [
    "# check the which date which are not 24 hours\n",
    "mask = weather[\"date\"].value_counts()\n",
    "date_with_miss_time = mask[mask!=24]\n",
    "\n",
    "print(\"Drop the date which miss over 9 number of hours,including: \")\n",
    "drop_index = list(date_with_miss_time[date_with_miss_time<=15].index)\n",
    "print(drop_index)\n",
    "for i in drop_index:\n",
    "    weather.drop(index= weather[weather[\"date\"] == i].index, inplace = True)"
   ]
  },
  {
   "cell_type": "code",
   "execution_count": 35,
   "metadata": {},
   "outputs": [],
   "source": [
    "# use data of the previous hour data to fill data of missing hours\n",
    "data_store = pd.DataFrame()\n",
    "for date in weather[\"date\"].value_counts().sort_index().index:\n",
    "    mask = weather[weather[\"date\"] == date]\n",
    "    full_time = pd.DataFrame(weather[weather[\"date\"]==\"2020/01/01\"][\"Time\"].values,columns=[\"Time\"])\n",
    "    check = full_time.merge(mask,on=\"Time\",how=\"left\")\n",
    "    check.fillna(method=\"ffill\",inplace = True)\n",
    "    data_store = pd.concat([data_store,check])\n",
    "weather = data_store "
   ]
  },
  {
   "cell_type": "code",
   "execution_count": 37,
   "metadata": {},
   "outputs": [],
   "source": [
    "weather[\"date\"] = weather[\"date\"] + \" \"+ weather[\"Time\"]\n",
    "weather.drop(columns = \"Time\",inplace = True)"
   ]
  },
  {
   "cell_type": "code",
   "execution_count": 38,
   "metadata": {},
   "outputs": [],
   "source": [
    "weather.to_csv(\"weather_features.csv\")"
   ]
  },
  {
   "cell_type": "code",
   "execution_count": null,
   "metadata": {},
   "outputs": [],
   "source": []
  }
 ],
 "metadata": {
  "kernelspec": {
   "display_name": "Python 3",
   "language": "python",
   "name": "python3"
  },
  "language_info": {
   "codemirror_mode": {
    "name": "ipython",
    "version": 3
   },
   "file_extension": ".py",
   "mimetype": "text/x-python",
   "name": "python",
   "nbconvert_exporter": "python",
   "pygments_lexer": "ipython3",
   "version": "3.7.6"
  }
 },
 "nbformat": 4,
 "nbformat_minor": 2
}
